{
 "cells": [
  {
   "cell_type": "code",
   "execution_count": 1,
   "metadata": {},
   "outputs": [],
   "source": [
    "import pandas as pd\n",
    "import numpy as np\n",
    "import difflib\n",
    "from sklearn.feature_extraction.text import TfidfVectorizer\n",
    "from sklearn.metrics.pairwise import cosine_similarity"
   ]
  },
  {
   "cell_type": "code",
   "execution_count": 2,
   "metadata": {},
   "outputs": [],
   "source": [
    "data=pd.read_csv(r'Downloads/anime.csv')"
   ]
  },
  {
   "cell_type": "code",
   "execution_count": 3,
   "metadata": {},
   "outputs": [
    {
     "data": {
      "text/html": [
       "<div>\n",
       "<style scoped>\n",
       "    .dataframe tbody tr th:only-of-type {\n",
       "        vertical-align: middle;\n",
       "    }\n",
       "\n",
       "    .dataframe tbody tr th {\n",
       "        vertical-align: top;\n",
       "    }\n",
       "\n",
       "    .dataframe thead th {\n",
       "        text-align: right;\n",
       "    }\n",
       "</style>\n",
       "<table border=\"1\" class=\"dataframe\">\n",
       "  <thead>\n",
       "    <tr style=\"text-align: right;\">\n",
       "      <th></th>\n",
       "      <th>anime_id</th>\n",
       "      <th>name</th>\n",
       "      <th>genre</th>\n",
       "      <th>type</th>\n",
       "      <th>episodes</th>\n",
       "      <th>rating</th>\n",
       "      <th>members</th>\n",
       "    </tr>\n",
       "  </thead>\n",
       "  <tbody>\n",
       "    <tr>\n",
       "      <th>0</th>\n",
       "      <td>32281</td>\n",
       "      <td>Kimi no Na wa.</td>\n",
       "      <td>Drama, Romance, School, Supernatural</td>\n",
       "      <td>Movie</td>\n",
       "      <td>1</td>\n",
       "      <td>9.37</td>\n",
       "      <td>200630</td>\n",
       "    </tr>\n",
       "    <tr>\n",
       "      <th>1</th>\n",
       "      <td>5114</td>\n",
       "      <td>Fullmetal Alchemist: Brotherhood</td>\n",
       "      <td>Action, Adventure, Drama, Fantasy, Magic, Mili...</td>\n",
       "      <td>TV</td>\n",
       "      <td>64</td>\n",
       "      <td>9.26</td>\n",
       "      <td>793665</td>\n",
       "    </tr>\n",
       "    <tr>\n",
       "      <th>2</th>\n",
       "      <td>28977</td>\n",
       "      <td>Gintama°</td>\n",
       "      <td>Action, Comedy, Historical, Parody, Samurai, S...</td>\n",
       "      <td>TV</td>\n",
       "      <td>51</td>\n",
       "      <td>9.25</td>\n",
       "      <td>114262</td>\n",
       "    </tr>\n",
       "    <tr>\n",
       "      <th>3</th>\n",
       "      <td>9253</td>\n",
       "      <td>Steins;Gate</td>\n",
       "      <td>Sci-Fi, Thriller</td>\n",
       "      <td>TV</td>\n",
       "      <td>24</td>\n",
       "      <td>9.17</td>\n",
       "      <td>673572</td>\n",
       "    </tr>\n",
       "    <tr>\n",
       "      <th>4</th>\n",
       "      <td>9969</td>\n",
       "      <td>Gintama&amp;#039;</td>\n",
       "      <td>Action, Comedy, Historical, Parody, Samurai, S...</td>\n",
       "      <td>TV</td>\n",
       "      <td>51</td>\n",
       "      <td>9.16</td>\n",
       "      <td>151266</td>\n",
       "    </tr>\n",
       "  </tbody>\n",
       "</table>\n",
       "</div>"
      ],
      "text/plain": [
       "   anime_id                              name  \\\n",
       "0     32281                    Kimi no Na wa.   \n",
       "1      5114  Fullmetal Alchemist: Brotherhood   \n",
       "2     28977                          Gintama°   \n",
       "3      9253                       Steins;Gate   \n",
       "4      9969                     Gintama&#039;   \n",
       "\n",
       "                                               genre   type episodes  rating  \\\n",
       "0               Drama, Romance, School, Supernatural  Movie        1    9.37   \n",
       "1  Action, Adventure, Drama, Fantasy, Magic, Mili...     TV       64    9.26   \n",
       "2  Action, Comedy, Historical, Parody, Samurai, S...     TV       51    9.25   \n",
       "3                                   Sci-Fi, Thriller     TV       24    9.17   \n",
       "4  Action, Comedy, Historical, Parody, Samurai, S...     TV       51    9.16   \n",
       "\n",
       "   members  \n",
       "0   200630  \n",
       "1   793665  \n",
       "2   114262  \n",
       "3   673572  \n",
       "4   151266  "
      ]
     },
     "execution_count": 3,
     "metadata": {},
     "output_type": "execute_result"
    }
   ],
   "source": [
    "data.head()"
   ]
  },
  {
   "cell_type": "code",
   "execution_count": 4,
   "metadata": {},
   "outputs": [
    {
     "data": {
      "text/plain": [
       "anime_id      0\n",
       "name          0\n",
       "genre        62\n",
       "type         25\n",
       "episodes      0\n",
       "rating      230\n",
       "members       0\n",
       "dtype: int64"
      ]
     },
     "execution_count": 4,
     "metadata": {},
     "output_type": "execute_result"
    }
   ],
   "source": [
    "data.isna().sum()"
   ]
  },
  {
   "cell_type": "code",
   "execution_count": 5,
   "metadata": {},
   "outputs": [
    {
     "name": "stdout",
     "output_type": "stream",
     "text": [
      "['name', 'genre', 'type']\n"
     ]
    }
   ],
   "source": [
    "selected_features = ['name','genre','type']\n",
    "print(selected_features)"
   ]
  },
  {
   "cell_type": "code",
   "execution_count": 6,
   "metadata": {},
   "outputs": [],
   "source": [
    "for feature in selected_features:\n",
    "  data[feature] =data[feature].fillna('')"
   ]
  },
  {
   "cell_type": "code",
   "execution_count": 7,
   "metadata": {},
   "outputs": [],
   "source": [
    "combined_features = data['genre']+' '+data['name']+' '+data['type']"
   ]
  },
  {
   "cell_type": "code",
   "execution_count": 8,
   "metadata": {},
   "outputs": [],
   "source": [
    "vectorizer = TfidfVectorizer()"
   ]
  },
  {
   "cell_type": "code",
   "execution_count": 9,
   "metadata": {},
   "outputs": [],
   "source": [
    "feature_vectors = vectorizer.fit_transform(combined_features)"
   ]
  },
  {
   "cell_type": "code",
   "execution_count": 10,
   "metadata": {},
   "outputs": [
    {
     "name": "stdout",
     "output_type": "stream",
     "text": [
      "  (0, 7052)\t0.2153865705811725\n",
      "  (0, 11410)\t0.388228413282953\n",
      "  (0, 7158)\t0.4550925136134089\n",
      "  (0, 7534)\t0.19620630762634764\n",
      "  (0, 5466)\t0.5362694990332014\n",
      "  (0, 10286)\t0.283528096839026\n",
      "  (0, 9230)\t0.2693369646930725\n",
      "  (0, 8877)\t0.2551674128629534\n",
      "  (0, 2454)\t0.2272779065505823\n",
      "  (1, 11112)\t0.12895414126192567\n",
      "  (1, 1201)\t0.5232067645816747\n",
      "  (1, 400)\t0.48203062149680964\n",
      "  (1, 3003)\t0.48203062149680964\n",
      "  (1, 9797)\t0.17227165178083892\n",
      "  (1, 6777)\t0.2588749126458477\n",
      "  (1, 6319)\t0.22254048678494712\n",
      "  (1, 2810)\t0.1585717818337147\n",
      "  (1, 263)\t0.1575293457906819\n",
      "  (1, 241)\t0.1463092283179353\n",
      "  (1, 2454)\t0.16532865780877098\n",
      "  (2, 3350)\t0.6039900989098858\n",
      "  (2, 2844)\t0.22149954475630707\n",
      "  (2, 9233)\t0.22149954475630707\n",
      "  (2, 9117)\t0.4239545425771398\n",
      "  (2, 8153)\t0.3506859285185162\n",
      "  :\t:\n",
      "  (12290, 11595)\t0.5579079220837376\n",
      "  (12290, 8046)\t0.2062718853151471\n",
      "  (12291, 2115)\t0.5258061559122676\n",
      "  (12291, 11370)\t0.5021981138538678\n",
      "  (12291, 3221)\t0.5128137128163226\n",
      "  (12291, 3935)\t0.19648831849139634\n",
      "  (12291, 4165)\t0.3634705730548016\n",
      "  (12291, 8046)\t0.1343837529328681\n",
      "  (12291, 7534)\t0.13989112538411944\n",
      "  (12292, 4467)\t0.41422534892892743\n",
      "  (12292, 2115)\t0.43369784233222813\n",
      "  (12292, 11370)\t0.41422534892892743\n",
      "  (12292, 3221)\t0.42298135589710956\n",
      "  (12292, 3935)\t0.1620683950064382\n",
      "  (12292, 9577)\t0.26541533917046845\n",
      "  (12292, 4165)\t0.29979946319119943\n",
      "  (12292, 8046)\t0.11084302273025622\n",
      "  (12292, 2200)\t0.2786332146727832\n",
      "  (12292, 7534)\t0.11538563890576214\n",
      "  (12293, 11653)\t0.5542682715239337\n",
      "  (12293, 8378)\t0.5542682715239337\n",
      "  (12293, 11741)\t0.5542682715239337\n",
      "  (12293, 3935)\t0.19235975692394147\n",
      "  (12293, 7052)\t0.15033957008286064\n",
      "  (12293, 7534)\t0.1369517693535767\n"
     ]
    }
   ],
   "source": [
    "print(feature_vectors)"
   ]
  },
  {
   "cell_type": "code",
   "execution_count": 11,
   "metadata": {},
   "outputs": [],
   "source": [
    "similarity = cosine_similarity(feature_vectors)"
   ]
  },
  {
   "cell_type": "code",
   "execution_count": 12,
   "metadata": {},
   "outputs": [
    {
     "data": {
      "text/plain": [
       "0"
      ]
     },
     "execution_count": 12,
     "metadata": {},
     "output_type": "execute_result"
    }
   ],
   "source": [
    "data['anime_id'].isnull().sum()"
   ]
  },
  {
   "cell_type": "code",
   "execution_count": 13,
   "metadata": {},
   "outputs": [
    {
     "data": {
      "text/html": [
       "<div>\n",
       "<style scoped>\n",
       "    .dataframe tbody tr th:only-of-type {\n",
       "        vertical-align: middle;\n",
       "    }\n",
       "\n",
       "    .dataframe tbody tr th {\n",
       "        vertical-align: top;\n",
       "    }\n",
       "\n",
       "    .dataframe thead th {\n",
       "        text-align: right;\n",
       "    }\n",
       "</style>\n",
       "<table border=\"1\" class=\"dataframe\">\n",
       "  <thead>\n",
       "    <tr style=\"text-align: right;\">\n",
       "      <th></th>\n",
       "      <th>anime_id</th>\n",
       "      <th>name</th>\n",
       "      <th>genre</th>\n",
       "      <th>type</th>\n",
       "      <th>episodes</th>\n",
       "      <th>rating</th>\n",
       "      <th>members</th>\n",
       "      <th>index</th>\n",
       "    </tr>\n",
       "  </thead>\n",
       "  <tbody>\n",
       "    <tr>\n",
       "      <th>0</th>\n",
       "      <td>32281</td>\n",
       "      <td>Kimi no Na wa.</td>\n",
       "      <td>Drama, Romance, School, Supernatural</td>\n",
       "      <td>Movie</td>\n",
       "      <td>1</td>\n",
       "      <td>9.37</td>\n",
       "      <td>200630</td>\n",
       "      <td>0</td>\n",
       "    </tr>\n",
       "    <tr>\n",
       "      <th>1</th>\n",
       "      <td>5114</td>\n",
       "      <td>Fullmetal Alchemist: Brotherhood</td>\n",
       "      <td>Action, Adventure, Drama, Fantasy, Magic, Mili...</td>\n",
       "      <td>TV</td>\n",
       "      <td>64</td>\n",
       "      <td>9.26</td>\n",
       "      <td>793665</td>\n",
       "      <td>1</td>\n",
       "    </tr>\n",
       "    <tr>\n",
       "      <th>2</th>\n",
       "      <td>28977</td>\n",
       "      <td>Gintama°</td>\n",
       "      <td>Action, Comedy, Historical, Parody, Samurai, S...</td>\n",
       "      <td>TV</td>\n",
       "      <td>51</td>\n",
       "      <td>9.25</td>\n",
       "      <td>114262</td>\n",
       "      <td>2</td>\n",
       "    </tr>\n",
       "    <tr>\n",
       "      <th>3</th>\n",
       "      <td>9253</td>\n",
       "      <td>Steins;Gate</td>\n",
       "      <td>Sci-Fi, Thriller</td>\n",
       "      <td>TV</td>\n",
       "      <td>24</td>\n",
       "      <td>9.17</td>\n",
       "      <td>673572</td>\n",
       "      <td>3</td>\n",
       "    </tr>\n",
       "    <tr>\n",
       "      <th>4</th>\n",
       "      <td>9969</td>\n",
       "      <td>Gintama&amp;#039;</td>\n",
       "      <td>Action, Comedy, Historical, Parody, Samurai, S...</td>\n",
       "      <td>TV</td>\n",
       "      <td>51</td>\n",
       "      <td>9.16</td>\n",
       "      <td>151266</td>\n",
       "      <td>4</td>\n",
       "    </tr>\n",
       "  </tbody>\n",
       "</table>\n",
       "</div>"
      ],
      "text/plain": [
       "   anime_id                              name  \\\n",
       "0     32281                    Kimi no Na wa.   \n",
       "1      5114  Fullmetal Alchemist: Brotherhood   \n",
       "2     28977                          Gintama°   \n",
       "3      9253                       Steins;Gate   \n",
       "4      9969                     Gintama&#039;   \n",
       "\n",
       "                                               genre   type episodes  rating  \\\n",
       "0               Drama, Romance, School, Supernatural  Movie        1    9.37   \n",
       "1  Action, Adventure, Drama, Fantasy, Magic, Mili...     TV       64    9.26   \n",
       "2  Action, Comedy, Historical, Parody, Samurai, S...     TV       51    9.25   \n",
       "3                                   Sci-Fi, Thriller     TV       24    9.17   \n",
       "4  Action, Comedy, Historical, Parody, Samurai, S...     TV       51    9.16   \n",
       "\n",
       "   members  index  \n",
       "0   200630      0  \n",
       "1   793665      1  \n",
       "2   114262      2  \n",
       "3   673572      3  \n",
       "4   151266      4  "
      ]
     },
     "execution_count": 13,
     "metadata": {},
     "output_type": "execute_result"
    }
   ],
   "source": [
    "index=[]\n",
    "for i in range(0,12294):\n",
    "    index.append(i)\n",
    "data['index']=index\n",
    "data.head()"
   ]
  },
  {
   "cell_type": "code",
   "execution_count": 14,
   "metadata": {},
   "outputs": [
    {
     "name": "stdout",
     "output_type": "stream",
     "text": [
      " Enter your favourite anime name : Fullmetal Alchemist: Brotherhood\n",
      "30 Animes suggested for you : \n",
      "\n",
      "1 . Fullmetal Alchemist: Brotherhood\n",
      "2 . Fullmetal Alchemist: Brotherhood Specials\n",
      "3 . Fullmetal Alchemist\n",
      "4 . Fullmetal Alchemist: Brotherhood - 4-Koma Theater\n",
      "5 . Fullmetal Alchemist: Reflections\n",
      "6 . Fullmetal Alchemist: The Sacred Star of Milos\n",
      "7 . Fullmetal Alchemist: The Conqueror of Shamballa\n",
      "8 . Fullmetal Alchemist: Premium Collection\n",
      "9 . Fullmetal Alchemist: The Sacred Star of Milos Specials\n",
      "10 . Brotherhood: Final Fantasy XV\n",
      "11 . Macross 7\n",
      "12 . X\n",
      "13 . Berserk (2017)\n",
      "14 . Madlax\n",
      "15 . Magi: The Kingdom of Magic\n",
      "16 . Magi: The Labyrinth of Magic\n",
      "17 . InuYasha\n",
      "18 . Berserk\n",
      "19 . Break Blade\n",
      "20 . 07-Ghost\n",
      "21 . Meoteoldosa\n",
      "22 . Tsubasa Chronicle\n",
      "23 . Fairy Tail\n",
      "24 . Military!\n",
      "25 . Magic Knight Rayearth\n",
      "26 . Arslan Senki (TV)\n",
      "27 . Terra e... (TV)\n",
      "28 . Area 88 (TV)\n",
      "29 . Arion\n",
      "30 . E&#039;s Otherwise\n"
     ]
    }
   ],
   "source": [
    "anime_name = input(' Enter your favourite anime name : ')\n",
    "\n",
    "list_of_all_titles = data['name'].tolist()\n",
    "\n",
    "find_close_match = difflib.get_close_matches(anime_name, list_of_all_titles)\n",
    "\n",
    "close_match = find_close_match[0]\n",
    "\n",
    "index_of_the_anime = data[data.name == close_match]['index'].values[0]\n",
    "\n",
    "similarity_score = list(enumerate(similarity[index_of_the_anime]))\n",
    "\n",
    "sorted_similar_anime = sorted(similarity_score, key = lambda x:x[1], reverse = True) \n",
    "\n",
    "print('30 Animes suggested for you : \\n')\n",
    "\n",
    "i = 1\n",
    "\n",
    "for anime in sorted_similar_anime:\n",
    "  index = anime[0]\n",
    "  title_from_index = data[data.index==index]['name'].values[0]\n",
    "  if (i<31):\n",
    "    print(i, '.',title_from_index)\n",
    "    i+=1"
   ]
  },
  {
   "cell_type": "code",
   "execution_count": null,
   "metadata": {},
   "outputs": [],
   "source": []
  }
 ],
 "metadata": {
  "kernelspec": {
   "display_name": "Python 3",
   "language": "python",
   "name": "python3"
  },
  "language_info": {
   "codemirror_mode": {
    "name": "ipython",
    "version": 3
   },
   "file_extension": ".py",
   "mimetype": "text/x-python",
   "name": "python",
   "nbconvert_exporter": "python",
   "pygments_lexer": "ipython3",
   "version": "3.8.5"
  }
 },
 "nbformat": 4,
 "nbformat_minor": 4
}
