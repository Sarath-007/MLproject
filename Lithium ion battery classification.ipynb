{
 "cells": [
  {
   "cell_type": "code",
   "execution_count": 56,
   "id": "67e08199",
   "metadata": {},
   "outputs": [],
   "source": [
    "import pandas as pd\n",
    "import numpy as np\n",
    "import matplotlib.pyplot as plt\n",
    "import seaborn as sns"
   ]
  },
  {
   "cell_type": "code",
   "execution_count": 57,
   "id": "326a6011",
   "metadata": {},
   "outputs": [],
   "source": [
    "df=pd.read_csv(r'D:\\Datasets\\lithium-ion batteries.csv')"
   ]
  },
  {
   "cell_type": "code",
   "execution_count": 58,
   "id": "d6e68eac",
   "metadata": {},
   "outputs": [
    {
     "data": {
      "text/html": [
       "<div>\n",
       "<style scoped>\n",
       "    .dataframe tbody tr th:only-of-type {\n",
       "        vertical-align: middle;\n",
       "    }\n",
       "\n",
       "    .dataframe tbody tr th {\n",
       "        vertical-align: top;\n",
       "    }\n",
       "\n",
       "    .dataframe thead th {\n",
       "        text-align: right;\n",
       "    }\n",
       "</style>\n",
       "<table border=\"1\" class=\"dataframe\">\n",
       "  <thead>\n",
       "    <tr style=\"text-align: right;\">\n",
       "      <th></th>\n",
       "      <th>Materials Id</th>\n",
       "      <th>Formula</th>\n",
       "      <th>Spacegroup</th>\n",
       "      <th>Formation Energy (eV)</th>\n",
       "      <th>E Above Hull (eV)</th>\n",
       "      <th>Band Gap (eV)</th>\n",
       "      <th>Nsites</th>\n",
       "      <th>Density (gm/cc)</th>\n",
       "      <th>Volume</th>\n",
       "      <th>Has Bandstructure</th>\n",
       "      <th>Crystal System</th>\n",
       "    </tr>\n",
       "  </thead>\n",
       "  <tbody>\n",
       "    <tr>\n",
       "      <th>0</th>\n",
       "      <td>mp-849394</td>\n",
       "      <td>Li2MnSiO4</td>\n",
       "      <td>Pc</td>\n",
       "      <td>-2.699</td>\n",
       "      <td>0.006</td>\n",
       "      <td>3.462</td>\n",
       "      <td>16</td>\n",
       "      <td>2.993</td>\n",
       "      <td>178.513</td>\n",
       "      <td>True</td>\n",
       "      <td>monoclinic</td>\n",
       "    </tr>\n",
       "    <tr>\n",
       "      <th>1</th>\n",
       "      <td>mp-783909</td>\n",
       "      <td>Li2MnSiO4</td>\n",
       "      <td>P21/c</td>\n",
       "      <td>-2.696</td>\n",
       "      <td>0.008</td>\n",
       "      <td>2.879</td>\n",
       "      <td>32</td>\n",
       "      <td>2.926</td>\n",
       "      <td>365.272</td>\n",
       "      <td>True</td>\n",
       "      <td>monoclinic</td>\n",
       "    </tr>\n",
       "    <tr>\n",
       "      <th>2</th>\n",
       "      <td>mp-761311</td>\n",
       "      <td>Li4MnSi2O7</td>\n",
       "      <td>Cc</td>\n",
       "      <td>-2.775</td>\n",
       "      <td>0.012</td>\n",
       "      <td>3.653</td>\n",
       "      <td>28</td>\n",
       "      <td>2.761</td>\n",
       "      <td>301.775</td>\n",
       "      <td>True</td>\n",
       "      <td>monoclinic</td>\n",
       "    </tr>\n",
       "    <tr>\n",
       "      <th>3</th>\n",
       "      <td>mp-761598</td>\n",
       "      <td>Li4Mn2Si3O10</td>\n",
       "      <td>C2/c</td>\n",
       "      <td>-2.783</td>\n",
       "      <td>0.013</td>\n",
       "      <td>3.015</td>\n",
       "      <td>38</td>\n",
       "      <td>2.908</td>\n",
       "      <td>436.183</td>\n",
       "      <td>True</td>\n",
       "      <td>monoclinic</td>\n",
       "    </tr>\n",
       "    <tr>\n",
       "      <th>4</th>\n",
       "      <td>mp-767709</td>\n",
       "      <td>Li2Mn3Si3O10</td>\n",
       "      <td>C2/c</td>\n",
       "      <td>-2.747</td>\n",
       "      <td>0.016</td>\n",
       "      <td>2.578</td>\n",
       "      <td>36</td>\n",
       "      <td>3.334</td>\n",
       "      <td>421.286</td>\n",
       "      <td>True</td>\n",
       "      <td>monoclinic</td>\n",
       "    </tr>\n",
       "  </tbody>\n",
       "</table>\n",
       "</div>"
      ],
      "text/plain": [
       "  Materials Id       Formula Spacegroup  Formation Energy (eV)  \\\n",
       "0    mp-849394     Li2MnSiO4         Pc                 -2.699   \n",
       "1    mp-783909     Li2MnSiO4      P21/c                 -2.696   \n",
       "2    mp-761311    Li4MnSi2O7         Cc                 -2.775   \n",
       "3    mp-761598  Li4Mn2Si3O10       C2/c                 -2.783   \n",
       "4    mp-767709  Li2Mn3Si3O10       C2/c                 -2.747   \n",
       "\n",
       "   E Above Hull (eV)  Band Gap (eV)  Nsites  Density (gm/cc)   Volume  \\\n",
       "0              0.006          3.462      16            2.993  178.513   \n",
       "1              0.008          2.879      32            2.926  365.272   \n",
       "2              0.012          3.653      28            2.761  301.775   \n",
       "3              0.013          3.015      38            2.908  436.183   \n",
       "4              0.016          2.578      36            3.334  421.286   \n",
       "\n",
       "   Has Bandstructure Crystal System  \n",
       "0               True     monoclinic  \n",
       "1               True     monoclinic  \n",
       "2               True     monoclinic  \n",
       "3               True     monoclinic  \n",
       "4               True     monoclinic  "
      ]
     },
     "execution_count": 58,
     "metadata": {},
     "output_type": "execute_result"
    }
   ],
   "source": [
    "df.head()"
   ]
  },
  {
   "cell_type": "code",
   "execution_count": 59,
   "id": "2f9a64bf",
   "metadata": {},
   "outputs": [
    {
     "name": "stdout",
     "output_type": "stream",
     "text": [
      "<class 'pandas.core.frame.DataFrame'>\n",
      "RangeIndex: 339 entries, 0 to 338\n",
      "Data columns (total 11 columns):\n",
      " #   Column                 Non-Null Count  Dtype  \n",
      "---  ------                 --------------  -----  \n",
      " 0   Materials Id           339 non-null    object \n",
      " 1   Formula                339 non-null    object \n",
      " 2   Spacegroup             339 non-null    object \n",
      " 3   Formation Energy (eV)  339 non-null    float64\n",
      " 4   E Above Hull (eV)      339 non-null    float64\n",
      " 5   Band Gap (eV)          339 non-null    float64\n",
      " 6   Nsites                 339 non-null    int64  \n",
      " 7   Density (gm/cc)        339 non-null    float64\n",
      " 8   Volume                 339 non-null    float64\n",
      " 9   Has Bandstructure      339 non-null    bool   \n",
      " 10  Crystal System         339 non-null    object \n",
      "dtypes: bool(1), float64(5), int64(1), object(4)\n",
      "memory usage: 26.9+ KB\n"
     ]
    }
   ],
   "source": [
    "df.info()"
   ]
  },
  {
   "cell_type": "code",
   "execution_count": 60,
   "id": "74d28280",
   "metadata": {
    "scrolled": true
   },
   "outputs": [
    {
     "data": {
      "text/plain": [
       "Materials Id             0\n",
       "Formula                  0\n",
       "Spacegroup               0\n",
       "Formation Energy (eV)    0\n",
       "E Above Hull (eV)        0\n",
       "Band Gap (eV)            0\n",
       "Nsites                   0\n",
       "Density (gm/cc)          0\n",
       "Volume                   0\n",
       "Has Bandstructure        0\n",
       "Crystal System           0\n",
       "dtype: int64"
      ]
     },
     "execution_count": 60,
     "metadata": {},
     "output_type": "execute_result"
    }
   ],
   "source": [
    "df.isna().sum()"
   ]
  },
  {
   "cell_type": "code",
   "execution_count": 61,
   "id": "da7fd382",
   "metadata": {},
   "outputs": [
    {
     "data": {
      "text/plain": [
       "<AxesSubplot:>"
      ]
     },
     "execution_count": 61,
     "metadata": {},
     "output_type": "execute_result"
    },
    {
     "data": {
      "image/png": "[encoded data removed]",
      "text/plain": [
       "<Figure size 1080x1080 with 2 Axes>"
      ]
     },
     "metadata": {
      "needs_background": "light"
     },
     "output_type": "display_data"
    }
   ],
   "source": [
    "#correlation matrix\n",
    "plt.figure(figsize=(15,15))\n",
    "sns.heatmap(df.corr(),annot=True)"
   ]
  },
  {
   "cell_type": "code",
   "execution_count": 62,
   "id": "24325bb8",
   "metadata": {},
   "outputs": [],
   "source": [
    "df2=df.copy().drop(columns=['Materials Id','Formula','Spacegroup','Crystal System','Has Bandstructure'])"
   ]
  },
  {
   "cell_type": "code",
   "execution_count": 63,
   "id": "3f36a1eb",
   "metadata": {},
   "outputs": [
    {
     "data": {
      "image/png": "[encoded data removed]",
      "text/plain": [
       "<Figure size 432x288 with 6 Axes>"
      ]
     },
     "metadata": {
      "needs_background": "light"
     },
     "output_type": "display_data"
    }
   ],
   "source": [
    "plt.suptitle('Histograms of Numerical Columns', fontsize=20)\n",
    "for i in range(1, df2.shape[1] + 1):\n",
    "    plt.subplot(3, 3, i)\n",
    "    f = plt.gca()\n",
    "    f.set_title(df2.columns.values[i - 1])\n",
    "\n",
    "    vals = np.size(df2.iloc[:, i - 1].unique())\n",
    "    \n",
    "    plt.hist(df2.iloc[:, i - 1], bins=vals, color='#3F5D7D')\n",
    "plt.tight_layout(rect=[0, 0.03, 1, 0.95])"
   ]
  },
  {
   "cell_type": "code",
   "execution_count": 64,
   "id": "51f4501c",
   "metadata": {},
   "outputs": [],
   "source": [
    "y=df['Crystal System']\n"
   ]
  },
  {
   "cell_type": "code",
   "execution_count": 65,
   "id": "229f5fb4",
   "metadata": {},
   "outputs": [],
   "source": [
    "#one hot encoding of feature variable\n",
    "y=pd.get_dummies(y)\n"
   ]
  },
  {
   "cell_type": "code",
   "execution_count": 66,
   "id": "d5a751c3",
   "metadata": {},
   "outputs": [
    {
     "data": {
      "text/plain": [
       "Index(['monoclinic', 'orthorhombic', 'triclinic'], dtype='object')"
      ]
     },
     "execution_count": 66,
     "metadata": {},
     "output_type": "execute_result"
    }
   ],
   "source": [
    "y.columns"
   ]
  },
  {
   "cell_type": "code",
   "execution_count": 67,
   "id": "0c7a9585",
   "metadata": {},
   "outputs": [
    {
     "data": {
      "text/plain": [
       "monoclinic  orthorhombic  triclinic\n",
       "1           0             0            139\n",
       "0           1             0            128\n",
       "            0             1             72\n",
       "dtype: int64"
      ]
     },
     "execution_count": 67,
     "metadata": {},
     "output_type": "execute_result"
    }
   ],
   "source": [
    "y.value_counts()"
   ]
  },
  {
   "cell_type": "code",
   "execution_count": 68,
   "id": "c3df642a",
   "metadata": {},
   "outputs": [],
   "source": [
    "x=df.copy().drop(columns=['Materials Id','Formula','Spacegroup','Crystal System','Has Bandstructure'])"
   ]
  },
  {
   "cell_type": "code",
   "execution_count": 69,
   "id": "cc8cb1fc",
   "metadata": {},
   "outputs": [
    {
     "data": {
      "text/plain": [
       "(339, 6)"
      ]
     },
     "execution_count": 69,
     "metadata": {},
     "output_type": "execute_result"
    }
   ],
   "source": [
    "x.shape"
   ]
  },
  {
   "cell_type": "code",
   "execution_count": 70,
   "id": "cfcf838e",
   "metadata": {},
   "outputs": [],
   "source": [
    "# Feature Scaling\n",
    "from sklearn.preprocessing import StandardScaler\n",
    "sc_X = StandardScaler()\n",
    "X_train2 = pd.DataFrame(sc_X.fit_transform(x))\n",
    "\n",
    "X_train2.columns = x.columns.values\n",
    "\n",
    "X_train2.index = x.index.values\n",
    "\n",
    "x = X_train2\n"
   ]
  },
  {
   "cell_type": "code",
   "execution_count": 71,
   "id": "13127bc2",
   "metadata": {},
   "outputs": [],
   "source": [
    "#deep learning model\n",
    "import keras\n",
    "\n",
    "from keras.models import Sequential\n",
    "from keras.layers import Dense"
   ]
  },
  {
   "cell_type": "code",
   "execution_count": 72,
   "id": "d265cd0e",
   "metadata": {},
   "outputs": [],
   "source": [
    "model=Sequential()\n",
    "model.add(Dense(128,activation=\"relu\",input_shape=(6,)))\n",
    "model.add(Dense(64,activation=\"relu\"))\n",
    "model.add(Dense(64,activation=\"relu\"))\n",
    "model.add(Dense(64,activation=\"relu\"))\n",
    "model.add(Dense(64,activation=\"relu\"))\n",
    "model.add(Dense(3,activation=\"softmax\"))"
   ]
  },
  {
   "cell_type": "code",
   "execution_count": 73,
   "id": "ca1326aa",
   "metadata": {},
   "outputs": [],
   "source": [
    "\n",
    "model.compile(optimizer=\"adam\",loss=\"categorical_crossentropy\",metrics=[\"accuracy\"])"
   ]
  },
  {
   "cell_type": "code",
   "execution_count": 74,
   "id": "f01f409b",
   "metadata": {},
   "outputs": [
    {
     "name": "stdout",
     "output_type": "stream",
     "text": [
      "Epoch 1/100\n",
      "11/11 [==============================] - 1s 3ms/step - loss: 1.0858 - accuracy: 0.4220\n",
      "Epoch 2/100\n",
      "11/11 [==============================] - 0s 3ms/step - loss: 1.0342 - accuracy: 0.4733\n",
      "Epoch 3/100\n",
      "11/11 [==============================] - 0s 3ms/step - loss: 0.9963 - accuracy: 0.4729\n",
      "Epoch 4/100\n",
      "11/11 [==============================] - 0s 2ms/step - loss: 0.9450 - accuracy: 0.5328\n",
      "Epoch 5/100\n",
      "11/11 [==============================] - 0s 3ms/step - loss: 0.9102 - accuracy: 0.5659\n",
      "Epoch 6/100\n",
      "11/11 [==============================] - 0s 2ms/step - loss: 0.8966 - accuracy: 0.5391\n",
      "Epoch 7/100\n",
      "11/11 [==============================] - 0s 2ms/step - loss: 0.8131 - accuracy: 0.5891\n",
      "Epoch 8/100\n",
      "11/11 [==============================] - 0s 3ms/step - loss: 0.7839 - accuracy: 0.6325\n",
      "Epoch 9/100\n",
      "11/11 [==============================] - 0s 2ms/step - loss: 0.7653 - accuracy: 0.6564\n",
      "Epoch 10/100\n",
      "11/11 [==============================] - 0s 3ms/step - loss: 0.7734 - accuracy: 0.6227\n",
      "Epoch 11/100\n",
      "11/11 [==============================] - 0s 2ms/step - loss: 0.7663 - accuracy: 0.6235\n",
      "Epoch 12/100\n",
      "11/11 [==============================] - 0s 3ms/step - loss: 0.6978 - accuracy: 0.6777\n",
      "Epoch 13/100\n",
      "11/11 [==============================] - 0s 3ms/step - loss: 0.6974 - accuracy: 0.7046\n",
      "Epoch 14/100\n",
      "11/11 [==============================] - 0s 3ms/step - loss: 0.7125 - accuracy: 0.6066\n",
      "Epoch 15/100\n",
      "11/11 [==============================] - 0s 3ms/step - loss: 0.6802 - accuracy: 0.7049\n",
      "Epoch 16/100\n",
      "11/11 [==============================] - 0s 2ms/step - loss: 0.6882 - accuracy: 0.6649\n",
      "Epoch 17/100\n",
      "11/11 [==============================] - 0s 2ms/step - loss: 0.6518 - accuracy: 0.6796\n",
      "Epoch 18/100\n",
      "11/11 [==============================] - 0s 4ms/step - loss: 0.6453 - accuracy: 0.6872\n",
      "Epoch 19/100\n",
      "11/11 [==============================] - 0s 3ms/step - loss: 0.6179 - accuracy: 0.7351\n",
      "Epoch 20/100\n",
      "11/11 [==============================] - 0s 3ms/step - loss: 0.5727 - accuracy: 0.7479\n",
      "Epoch 21/100\n",
      "11/11 [==============================] - 0s 3ms/step - loss: 0.5488 - accuracy: 0.7545\n",
      "Epoch 22/100\n",
      "11/11 [==============================] - 0s 3ms/step - loss: 0.5185 - accuracy: 0.7784\n",
      "Epoch 23/100\n",
      "11/11 [==============================] - 0s 3ms/step - loss: 0.4924 - accuracy: 0.7933\n",
      "Epoch 24/100\n",
      "11/11 [==============================] - 0s 3ms/step - loss: 0.5108 - accuracy: 0.7949\n",
      "Epoch 25/100\n",
      "11/11 [==============================] - 0s 3ms/step - loss: 0.4886 - accuracy: 0.7683\n",
      "Epoch 26/100\n",
      "11/11 [==============================] - 0s 3ms/step - loss: 0.5206 - accuracy: 0.7784\n",
      "Epoch 27/100\n",
      "11/11 [==============================] - 0s 3ms/step - loss: 0.5135 - accuracy: 0.7885\n",
      "Epoch 28/100\n",
      "11/11 [==============================] - 0s 3ms/step - loss: 0.5092 - accuracy: 0.7522\n",
      "Epoch 29/100\n",
      "11/11 [==============================] - 0s 4ms/step - loss: 0.4490 - accuracy: 0.8269\n",
      "Epoch 30/100\n",
      "11/11 [==============================] - 0s 3ms/step - loss: 0.4920 - accuracy: 0.7886\n",
      "Epoch 31/100\n",
      "11/11 [==============================] - 0s 3ms/step - loss: 0.3997 - accuracy: 0.8430\n",
      "Epoch 32/100\n",
      "11/11 [==============================] - 0s 3ms/step - loss: 0.4125 - accuracy: 0.8508\n",
      "Epoch 33/100\n",
      "11/11 [==============================] - 0s 3ms/step - loss: 0.3732 - accuracy: 0.8330\n",
      "Epoch 34/100\n",
      "11/11 [==============================] - 0s 3ms/step - loss: 0.3860 - accuracy: 0.8444\n",
      "Epoch 35/100\n",
      "11/11 [==============================] - 0s 3ms/step - loss: 0.3982 - accuracy: 0.8425\n",
      "Epoch 36/100\n",
      "11/11 [==============================] - 0s 3ms/step - loss: 0.4064 - accuracy: 0.8192\n",
      "Epoch 37/100\n",
      "11/11 [==============================] - 0s 3ms/step - loss: 0.3802 - accuracy: 0.8380\n",
      "Epoch 38/100\n",
      "11/11 [==============================] - 0s 3ms/step - loss: 0.3663 - accuracy: 0.8654\n",
      "Epoch 39/100\n",
      "11/11 [==============================] - 0s 3ms/step - loss: 0.2958 - accuracy: 0.9028\n",
      "Epoch 40/100\n",
      "11/11 [==============================] - 0s 2ms/step - loss: 0.3726 - accuracy: 0.8648\n",
      "Epoch 41/100\n",
      "11/11 [==============================] - 0s 4ms/step - loss: 0.2920 - accuracy: 0.8880\n",
      "Epoch 42/100\n",
      "11/11 [==============================] - 0s 3ms/step - loss: 0.2861 - accuracy: 0.8818\n",
      "Epoch 43/100\n",
      "11/11 [==============================] - 0s 3ms/step - loss: 0.2932 - accuracy: 0.8731\n",
      "Epoch 44/100\n",
      "11/11 [==============================] - 0s 3ms/step - loss: 0.2774 - accuracy: 0.9031\n",
      "Epoch 45/100\n",
      "11/11 [==============================] - 0s 2ms/step - loss: 0.2956 - accuracy: 0.8919\n",
      "Epoch 46/100\n",
      "11/11 [==============================] - 0s 3ms/step - loss: 0.2681 - accuracy: 0.9076\n",
      "Epoch 47/100\n",
      "11/11 [==============================] - 0s 3ms/step - loss: 0.2453 - accuracy: 0.9228\n",
      "Epoch 48/100\n",
      "11/11 [==============================] - 0s 3ms/step - loss: 0.2298 - accuracy: 0.9225\n",
      "Epoch 49/100\n",
      "11/11 [==============================] - 0s 3ms/step - loss: 0.2539 - accuracy: 0.9125\n",
      "Epoch 50/100\n",
      "11/11 [==============================] - 0s 2ms/step - loss: 0.2331 - accuracy: 0.9121\n",
      "Epoch 51/100\n",
      "11/11 [==============================] - 0s 3ms/step - loss: 0.2492 - accuracy: 0.9208\n",
      "Epoch 52/100\n",
      "11/11 [==============================] - 0s 3ms/step - loss: 0.2424 - accuracy: 0.8953\n",
      "Epoch 53/100\n",
      "11/11 [==============================] - 0s 3ms/step - loss: 0.2231 - accuracy: 0.8978\n",
      "Epoch 54/100\n",
      "11/11 [==============================] - 0s 3ms/step - loss: 0.2030 - accuracy: 0.9273\n",
      "Epoch 55/100\n",
      "11/11 [==============================] - 0s 3ms/step - loss: 0.2005 - accuracy: 0.9231\n",
      "Epoch 56/100\n",
      "11/11 [==============================] - 0s 3ms/step - loss: 0.2526 - accuracy: 0.8725\n",
      "Epoch 57/100\n",
      "11/11 [==============================] - 0s 2ms/step - loss: 0.2637 - accuracy: 0.8737\n",
      "Epoch 58/100\n",
      "11/11 [==============================] - 0s 3ms/step - loss: 0.2262 - accuracy: 0.9053\n",
      "Epoch 59/100\n",
      "11/11 [==============================] - 0s 3ms/step - loss: 0.1844 - accuracy: 0.9143\n",
      "Epoch 60/100\n",
      "11/11 [==============================] - 0s 3ms/step - loss: 0.1805 - accuracy: 0.9416\n",
      "Epoch 61/100\n",
      "11/11 [==============================] - 0s 3ms/step - loss: 0.1694 - accuracy: 0.9292\n",
      "Epoch 62/100\n",
      "11/11 [==============================] - 0s 2ms/step - loss: 0.1452 - accuracy: 0.9528\n",
      "Epoch 63/100\n",
      "11/11 [==============================] - 0s 3ms/step - loss: 0.1999 - accuracy: 0.9138\n",
      "Epoch 64/100\n",
      "11/11 [==============================] - 0s 3ms/step - loss: 0.1730 - accuracy: 0.9360\n",
      "Epoch 65/100\n",
      "11/11 [==============================] - 0s 2ms/step - loss: 0.1402 - accuracy: 0.9405\n",
      "Epoch 66/100\n",
      "11/11 [==============================] - 0s 2ms/step - loss: 0.1467 - accuracy: 0.9527\n",
      "Epoch 67/100\n",
      "11/11 [==============================] - 0s 3ms/step - loss: 0.1426 - accuracy: 0.9433\n",
      "Epoch 68/100\n",
      "11/11 [==============================] - 0s 3ms/step - loss: 0.1205 - accuracy: 0.9581\n",
      "Epoch 69/100\n",
      "11/11 [==============================] - 0s 3ms/step - loss: 0.1322 - accuracy: 0.9472\n",
      "Epoch 70/100\n",
      "11/11 [==============================] - 0s 3ms/step - loss: 0.1167 - accuracy: 0.9579\n",
      "Epoch 71/100\n",
      "11/11 [==============================] - 0s 3ms/step - loss: 0.1988 - accuracy: 0.9084\n",
      "Epoch 72/100\n",
      "11/11 [==============================] - 0s 3ms/step - loss: 0.1032 - accuracy: 0.9774\n",
      "Epoch 73/100\n",
      "11/11 [==============================] - 0s 3ms/step - loss: 0.1136 - accuracy: 0.9616\n",
      "Epoch 74/100\n",
      "11/11 [==============================] - 0s 3ms/step - loss: 0.1291 - accuracy: 0.9490\n",
      "Epoch 75/100\n",
      "11/11 [==============================] - 0s 3ms/step - loss: 0.1657 - accuracy: 0.9330\n",
      "Epoch 76/100\n",
      "11/11 [==============================] - 0s 2ms/step - loss: 0.1791 - accuracy: 0.9312\n",
      "Epoch 77/100\n",
      "11/11 [==============================] - 0s 3ms/step - loss: 0.1649 - accuracy: 0.9401\n",
      "Epoch 78/100\n",
      "11/11 [==============================] - 0s 3ms/step - loss: 0.1553 - accuracy: 0.9353\n",
      "Epoch 79/100\n",
      "11/11 [==============================] - 0s 2ms/step - loss: 0.1652 - accuracy: 0.9392\n",
      "Epoch 80/100\n",
      "11/11 [==============================] - 0s 3ms/step - loss: 0.1297 - accuracy: 0.9391\n",
      "Epoch 81/100\n",
      "11/11 [==============================] - 0s 2ms/step - loss: 0.1496 - accuracy: 0.9318\n",
      "Epoch 82/100\n",
      "11/11 [==============================] - 0s 3ms/step - loss: 0.1142 - accuracy: 0.9586\n",
      "Epoch 83/100\n"
     ]
    },
    {
     "name": "stdout",
     "output_type": "stream",
     "text": [
      "11/11 [==============================] - 0s 3ms/step - loss: 0.1012 - accuracy: 0.9639\n",
      "Epoch 84/100\n",
      "11/11 [==============================] - 0s 2ms/step - loss: 0.0857 - accuracy: 0.9704\n",
      "Epoch 85/100\n",
      "11/11 [==============================] - 0s 4ms/step - loss: 0.1085 - accuracy: 0.9554\n",
      "Epoch 86/100\n",
      "11/11 [==============================] - 0s 3ms/step - loss: 0.1171 - accuracy: 0.9519\n",
      "Epoch 87/100\n",
      "11/11 [==============================] - 0s 4ms/step - loss: 0.0867 - accuracy: 0.9666\n",
      "Epoch 88/100\n",
      "11/11 [==============================] - 0s 3ms/step - loss: 0.1159 - accuracy: 0.9531\n",
      "Epoch 89/100\n",
      "11/11 [==============================] - 0s 3ms/step - loss: 0.1201 - accuracy: 0.9586\n",
      "Epoch 90/100\n",
      "11/11 [==============================] - 0s 2ms/step - loss: 0.0726 - accuracy: 0.9792\n",
      "Epoch 91/100\n",
      "11/11 [==============================] - 0s 3ms/step - loss: 0.1563 - accuracy: 0.9421\n",
      "Epoch 92/100\n",
      "11/11 [==============================] - 0s 3ms/step - loss: 0.1194 - accuracy: 0.9516\n",
      "Epoch 93/100\n",
      "11/11 [==============================] - 0s 3ms/step - loss: 0.1484 - accuracy: 0.9430\n",
      "Epoch 94/100\n",
      "11/11 [==============================] - 0s 3ms/step - loss: 0.1915 - accuracy: 0.9195\n",
      "Epoch 95/100\n",
      "11/11 [==============================] - 0s 3ms/step - loss: 0.1778 - accuracy: 0.9408\n",
      "Epoch 96/100\n",
      "11/11 [==============================] - 0s 4ms/step - loss: 0.1331 - accuracy: 0.9628\n",
      "Epoch 97/100\n",
      "11/11 [==============================] - 0s 4ms/step - loss: 0.1497 - accuracy: 0.9483\n",
      "Epoch 98/100\n",
      "11/11 [==============================] - 0s 3ms/step - loss: 0.1579 - accuracy: 0.9364\n",
      "Epoch 99/100\n",
      "11/11 [==============================] - 0s 3ms/step - loss: 0.1762 - accuracy: 0.9325\n",
      "Epoch 100/100\n",
      "11/11 [==============================] - 0s 3ms/step - loss: 0.1821 - accuracy: 0.9195\n"
     ]
    },
    {
     "data": {
      "text/plain": [
       "<tensorflow.python.keras.callbacks.History at 0x234552c5588>"
      ]
     },
     "execution_count": 74,
     "metadata": {},
     "output_type": "execute_result"
    }
   ],
   "source": [
    "model.fit(x,y,epochs=100)"
   ]
  },
  {
   "cell_type": "code",
   "execution_count": 75,
   "id": "3aadd043",
   "metadata": {},
   "outputs": [
    {
     "name": "stdout",
     "output_type": "stream",
     "text": [
      "Summary of the model is-\n",
      "Model: \"sequential_4\"\n",
      "_________________________________________________________________\n",
      "Layer (type)                 Output Shape              Param #   \n",
      "=================================================================\n",
      "dense_20 (Dense)             (None, 128)               896       \n",
      "_________________________________________________________________\n",
      "dense_21 (Dense)             (None, 64)                8256      \n",
      "_________________________________________________________________\n",
      "dense_22 (Dense)             (None, 64)                4160      \n",
      "_________________________________________________________________\n",
      "dense_23 (Dense)             (None, 64)                4160      \n",
      "_________________________________________________________________\n",
      "dense_24 (Dense)             (None, 64)                4160      \n",
      "_________________________________________________________________\n",
      "dense_25 (Dense)             (None, 3)                 195       \n",
      "=================================================================\n",
      "Total params: 21,827\n",
      "Trainable params: 21,827\n",
      "Non-trainable params: 0\n",
      "_________________________________________________________________\n"
     ]
    }
   ],
   "source": [
    "print('Summary of the model is-')\n",
    "model.summary()"
   ]
  },
  {
   "cell_type": "code",
   "execution_count": null,
   "id": "193928b8",
   "metadata": {},
   "outputs": [],
   "source": []
  }
 ],
 "metadata": {
  "kernelspec": {
   "display_name": "Python 3",
   "language": "python",
   "name": "python3"
  },
  "language_info": {
   "codemirror_mode": {
    "name": "ipython",
    "version": 3
   },
   "file_extension": ".py",
   "mimetype": "text/x-python",
   "name": "python",
   "nbconvert_exporter": "python",
   "pygments_lexer": "ipython3",
   "version": "3.7.9"
  }
 },
 "nbformat": 4,
 "nbformat_minor": 5
}
